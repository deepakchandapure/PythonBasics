{
 "cells": [
  {
   "cell_type": "code",
   "execution_count": 10,
   "metadata": {},
   "outputs": [
    {
     "name": "stdout",
     "output_type": "stream",
     "text": [
      "[1, 4, 9, 16, 25]\n",
      "[9, 16, 25]\n",
      "[1, 4]\n",
      "25\n",
      "[16, 25]\n",
      "[1, 4, 9]\n",
      "[1, 4, 9, 16, 25]\n"
     ]
    }
   ],
   "source": [
    "squares = [1, 4, 9, 16, 25]\n",
    "print(squares)\n",
    "print(squares[2:]) #slicing returns a new list, left side included\n",
    "print(squares[:2]) # Right side excluded\n",
    "print(squares[-1])\n",
    "print(squares[-2:])\n",
    "print(squares[:-2])\n",
    "print(squares[:])"
   ]
  },
  {
   "cell_type": "markdown",
   "metadata": {},
   "source": [
    "Unlike strings, which are immutable, lists are a mutable type, i.e. it is possible to change their content:"
   ]
  },
  {
   "cell_type": "code",
   "execution_count": 13,
   "metadata": {},
   "outputs": [
    {
     "name": "stdout",
     "output_type": "stream",
     "text": [
      "[1, 8, 27, 65, 125]\n",
      "[1, 8, 27, 64, 125]\n",
      "[1, 8, 27, 64, 125, 216, 343]\n"
     ]
    }
   ],
   "source": [
    "cubes = [1, 8, 27, 65, 125]\n",
    "print(cubes)\n",
    "cubes[3] = 64\n",
    "print(cubes)\n",
    "cubes.append(216)\n",
    "cubes.append(7**3)\n",
    "print(cubes)"
   ]
  },
  {
   "cell_type": "code",
   "execution_count": 17,
   "metadata": {},
   "outputs": [
    {
     "name": "stdout",
     "output_type": "stream",
     "text": [
      "['a', 'b', 'C', 'D', 'E', 'f', 'g', 'h']\n"
     ]
    },
    {
     "data": {
      "text/plain": [
       "8"
      ]
     },
     "execution_count": 17,
     "metadata": {},
     "output_type": "execute_result"
    }
   ],
   "source": [
    "letters = ['a','b', 'c', 'd', 'e', 'f','g','h']\n",
    "letters[2:5]=['C','D','E']\n",
    "\n",
    "print(letters)\n",
    "len(letters)   # gives the length of the list"
   ]
  },
  {
   "cell_type": "code",
   "execution_count": 23,
   "metadata": {},
   "outputs": [
    {
     "name": "stdout",
     "output_type": "stream",
     "text": [
      "[[1, 2, 3, 5, 6], ['a', 'b', 'c', 'd']]\n",
      "2\n",
      "[[[1, 2, 3, 5, 6], ['a', 'b', 'c', 'd']], [['a', 'b', 'c', 'd'], [1, 2, 3, 5, 6]]]\n",
      "2\n"
     ]
    }
   ],
   "source": [
    "a = [1,2,3,5,6]\n",
    "n = ['a','b','c','d']\n",
    "\n",
    "x = [a, n]\n",
    "print(x)\n",
    "print(x[0][1])\n",
    "\n",
    "y = [n, a]\n",
    "z = [x,y]\n",
    "print(z)\n",
    "print(z[0][0][1])"
   ]
  }
 ],
 "metadata": {
  "kernelspec": {
   "display_name": "Python 3.10.7 64-bit",
   "language": "python",
   "name": "python3"
  },
  "language_info": {
   "codemirror_mode": {
    "name": "ipython",
    "version": 3
   },
   "file_extension": ".py",
   "mimetype": "text/x-python",
   "name": "python",
   "nbconvert_exporter": "python",
   "pygments_lexer": "ipython3",
   "version": "3.10.7"
  },
  "orig_nbformat": 4,
  "vscode": {
   "interpreter": {
    "hash": "99b635dfec5e29bb2762288910bc46f9f4f86456c4f38903c2a7c5deac4c995e"
   }
  }
 },
 "nbformat": 4,
 "nbformat_minor": 2
}
