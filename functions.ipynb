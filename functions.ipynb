{
 "cells": [
  {
   "cell_type": "code",
   "execution_count": 6,
   "metadata": {},
   "outputs": [
    {
     "name": "stdout",
     "output_type": "stream",
     "text": [
      "0 1 1 2 3 5 8 13 21 34 55 89 144 \n",
      "0 1 1 2 3 5 8 13 21 34 55 89 \n",
      "None\n"
     ]
    }
   ],
   "source": [
    "#Functions\n",
    "def fib(num):\n",
    "    x, y = 0, 1\n",
    "    while x < num :\n",
    "        print(x, end=' ')\n",
    "        x, y = y, x+y\n",
    "    print()\n",
    "\n",
    "f = fib \n",
    "f(200)\n",
    "print(f(100))"
   ]
  },
  {
   "cell_type": "code",
   "execution_count": 24,
   "metadata": {},
   "outputs": [
    {
     "data": {
      "text/plain": [
       "False"
      ]
     },
     "execution_count": 24,
     "metadata": {},
     "output_type": "execute_result"
    }
   ],
   "source": [
    "#Function with default argumets\n",
    "def ask_ok(prompt, retries=4, reminder='Please try again!'):\n",
    "    while True:\n",
    "        ok = input(prompt)\n",
    "        if ok in ('y', 'ye', 'yes'):\n",
    "            return True\n",
    "        if ok in ('n', 'no', 'nop', 'nope'):\n",
    "            return False\n",
    "        retries = retries - 1\n",
    "        if retries < 0:\n",
    "            raise ValueError('invalid user response')\n",
    "        print(reminder)\n",
    "\n",
    "ask_ok(\"prompt\", 3)"
   ]
  },
  {
   "cell_type": "code",
   "execution_count": 32,
   "metadata": {},
   "outputs": [
    {
     "name": "stdout",
     "output_type": "stream",
     "text": [
      "5\n",
      "6\n",
      "[5, 4, 1]\n",
      "[5, 4, 1, 2]\n",
      "[5, 4, 1, 2, 3]\n",
      "[5, 4, 1, 2, 3]\n"
     ]
    }
   ],
   "source": [
    "#The default values are evaluated at the point of function definition in the defining scope\n",
    "i = 5\n",
    "def f(arg=i): print(arg)\n",
    "i = 6\n",
    "f(); f(i)\n",
    "\n",
    "#The default value is evaluated only once. This makes a difference when the default is a mutable object such as a list, dictionary, \n",
    "# or instances of most classes. For example, the following function accumulates the arguments passed to it on subsequent calls:\n",
    "l = [5]\n",
    "def g(a=5, L=l):\n",
    "    L.append(a)\n",
    "    return L\n",
    "\n",
    "l.append(4)\n",
    "print(g(1))\n",
    "print(g(2))\n",
    "print(g(3))\n",
    "print(l)"
   ]
  },
  {
   "cell_type": "code",
   "execution_count": null,
   "metadata": {},
   "outputs": [],
   "source": [
    "# Keyword Arguments\n",
    "def parrot(voltage, state='a stiff', action='voom', type='Norwegian Blue'):\n",
    "    print(\"-- This parrot wouldn't\", action, end=' ')\n",
    "    print(\"if you put\", voltage, \"volts through it.\")\n",
    "    print(\"-- Lovely plumage, the\", type)\n",
    "    print(\"-- It's\", state, \"!\")\n",
    "\n",
    "parrot(1000)                                          # 1 positional argument\n",
    "parrot(voltage=1000)                                  # 1 keyword argument\n",
    "parrot(voltage=1000000, action='VOOOOOM')             # 2 keyword arguments\n",
    "parrot(action='VOOOOOM', voltage=1000000)             # 2 keyword arguments\n",
    "parrot('a million', 'bereft of life', 'jump')         # 3 positional arguments\n",
    "parrot('a thousand', state='pushing up the daisies')  # 1 positional, 1 keyword\n",
    "\n",
    "#INVALID CALLS:\n",
    "# parrot()                     # required argument missing\n",
    "# parrot(voltage=5.0, 'dead')  # non-keyword argument after a keyword argument\n",
    "# parrot(110, voltage=220)     # duplicate value for the same argument\n",
    "# parrot(actor='John Cleese')  # unknown keyword argument"
   ]
  },
  {
   "cell_type": "code",
   "execution_count": 35,
   "metadata": {},
   "outputs": [
    {
     "name": "stdout",
     "output_type": "stream",
     "text": [
      "-- Do you have any Limburger ?\n",
      "-- I'm sorry, we're all out of Limburger\n",
      "It's very runny, sir.\n",
      "It's really very, VERY runny, sir.\n",
      "10\n",
      "----------------------------------------\n",
      "shopkeeper : Michael Palin\n",
      "client : John Cleese\n",
      "sketch : Cheese Shop Sketch\n",
      "place : choose the place to eat\n"
     ]
    }
   ],
   "source": [
    "#When a final formal parameter of the form **name is present, it receives a dictionary (see Mapping Types — dict) containing \n",
    "# all keyword arguments except for those corresponding to a formal parameter. \n",
    "# This may be combined with a formal parameter of the form *name (described in the next subsection) which receives a tuple \n",
    "# containing the positional arguments beyond the formal parameter list. (*name must occur before **name.) For example, \n",
    "# if we define a function like this:\n",
    "\n",
    "def cheeseshop(kind, *argument, **keywords):\n",
    "    print(\"-- Do you have any\", kind, \"?\")\n",
    "    print(\"-- I'm sorry, we're all out of\", kind)\n",
    "    for arg in argument:\n",
    "        print(arg)\n",
    "    print(\"-\" * 40)\n",
    "    for kw in keywords:\n",
    "        print(kw, \":\", keywords[kw])\n",
    "\n",
    "cheeseshop(\"Limburger\", \"It's very runny, sir.\",\n",
    "           \"It's really very, VERY runny, sir.\",10,\n",
    "           shopkeeper=\"Michael Palin\",\n",
    "           client=\"John Cleese\",\n",
    "           sketch=\"Cheese Shop Sketch\",\n",
    "           place=\"choose the place to eat\")"
   ]
  },
  {
   "cell_type": "code",
   "execution_count": 36,
   "metadata": {},
   "outputs": [
    {
     "name": "stdout",
     "output_type": "stream",
     "text": [
      "2\n",
      "2\n",
      "1\n",
      "3\n",
      "1 2 3\n",
      "1 2 3\n"
     ]
    }
   ],
   "source": [
    "def standard_arg(arg): print(arg) #STANDARD \n",
    "def pos_only_arg(arg, /): print(arg) #POSITION ONLY\n",
    "def kwd_only_arg(*, arg): print(arg) #KEYWORD ONLY\n",
    "def combined_example(pos_only, /, standard, *, kwd_only):print(pos_only, standard, kwd_only) #COMBINED\n",
    "\n",
    "standard_arg(2)\n",
    "standard_arg(arg=2)\n",
    "\n",
    "pos_only_arg(1)\n",
    "# pos_only_arg(arg=1)\n",
    "\n",
    "# kwd_only_arg(3)\n",
    "kwd_only_arg(arg=3)\n",
    "\n",
    "#combined_example(1, 2, 3)\n",
    "combined_example(1, 2, kwd_only=3)\n",
    "combined_example(1, standard=2, kwd_only=3)\n",
    "#combined_example(pos_only=1, standard=2, kwd_only=3)"
   ]
  },
  {
   "cell_type": "code",
   "execution_count": 38,
   "metadata": {},
   "outputs": [
    {
     "data": {
      "text/plain": [
       "'earth.mars.venus'"
      ]
     },
     "execution_count": 38,
     "metadata": {},
     "output_type": "execute_result"
    }
   ],
   "source": [
    "# Arbitrary Argument Lists\n",
    "#Finally, the least frequently used option is to specify that a function can be called with an arbitrary number of arguments. \n",
    "# These arguments will be wrapped up in a tuple (see Tuples and Sequences). Before the variable number of arguments, \n",
    "# zero or more normal arguments may occur.\n",
    "\n",
    "def write_multiple_items(file, separator, *args):\n",
    "    file.write(separator.join(args))\n",
    "\n",
    "def concat(*args, sep=\"/\"):\n",
    "    return sep.join(args)\n",
    "\n",
    "concat(\"earth\", \"mars\", \"venus\")\n",
    "concat(\"earth\", \"mars\", \"venus\", sep=\".\")"
   ]
  },
  {
   "cell_type": "code",
   "execution_count": 41,
   "metadata": {},
   "outputs": [
    {
     "name": "stdout",
     "output_type": "stream",
     "text": [
      "[3, 4, 5]\n",
      "-- This parrot wouldn't VOOM if you put four million volts through it. E's bleedin' demised !\n"
     ]
    }
   ],
   "source": [
    "# Unpacking Argument Lists\n",
    "args = [3, 6]\n",
    "list1 = list(range(*args))\n",
    "print(list1)\n",
    "\n",
    "#In the same fashion, dictionaries can deliver keyword arguments with the **-operat\n",
    "\n",
    "def parrot(voltage, state='a stiff', action='voom'):\n",
    "     print(\"-- This parrot wouldn't\", action, end=' ')\n",
    "     print(\"if you put\", voltage, \"volts through it.\", end=' ')\n",
    "     print(\"E's\", state, \"!\")\n",
    "\n",
    "d = {\"voltage\": \"four million\", \"state\": \"bleedin' demised\", \"action\": \"VOOM\"}\n",
    "parrot(**d)"
   ]
  }
 ],
 "metadata": {
  "kernelspec": {
   "display_name": "Python 3.10.7 64-bit",
   "language": "python",
   "name": "python3"
  },
  "language_info": {
   "codemirror_mode": {
    "name": "ipython",
    "version": 3
   },
   "file_extension": ".py",
   "mimetype": "text/x-python",
   "name": "python",
   "nbconvert_exporter": "python",
   "pygments_lexer": "ipython3",
   "version": "3.10.7"
  },
  "orig_nbformat": 4,
  "vscode": {
   "interpreter": {
    "hash": "99b635dfec5e29bb2762288910bc46f9f4f86456c4f38903c2a7c5deac4c995e"
   }
  }
 },
 "nbformat": 4,
 "nbformat_minor": 2
}
