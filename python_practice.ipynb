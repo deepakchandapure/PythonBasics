{
 "cells": [
  {
   "cell_type": "markdown",
   "metadata": {},
   "source": [
    "Python is an interpreted language, which can save you considerable time during program development because no compilation and linking is necessary. The interpreter can be used interactively, which makes it easy to experiment with features of the language, to write throw-away programs, or to test functions during bottom-up program development. It is also a handy desk calculator.\n",
    "\n",
    "COMPILED LAGUAGE: A compiled language is one where the program, once compiled, is expressed in the instructions of the target machine. For example, an addition \"+\" operation in your source code could be translated directly to the \"ADD\" instruction in machine code.\n",
    "\n",
    "1. Faster performance by directly using the native code of the target machine\n",
    "2. Opportunity to apply quite powerful optimisations during the compile stage\n",
    "\n",
    "INTERPRETED LANGUAGE: An interpreted language is one where the instructions are not directly executed by the target machine, but instead read and executed by some other program (which normally is written in the language of the native machine). For example, the same \"+\" operation would be recognised by the interpreter at run time, which would then call its own \"add(a,b)\" function with the appropriate arguments, which would then execute the machine code \"ADD\" instruction.\n",
    "\n",
    "1. Easier to implement (writing good compilers is very hard!!)\n",
    "2. No need to run a compilation stage: can execute code directly \"on the fly\"\n",
    "3. Can be more convenient for dynamic languages\n",
    "4. interpreter can monitor what a program tries to do as it runs, to enforce a policy, say, for security."
   ]
  },
  {
   "cell_type": "markdown",
   "metadata": {},
   "source": [
    "STRINGS:\n"
   ]
  },
  {
   "cell_type": "code",
   "execution_count": 34,
   "metadata": {},
   "outputs": [
    {
     "name": "stdout",
     "output_type": "stream",
     "text": [
      "doesn't doest doesn\tt First line.\n",
      "Second line.\n"
     ]
    }
   ],
   "source": [
    "escape_char = 'doesn\\'t' # Use backslash \\' to get ' the next character\n",
    "escape_bchar = 'doesn\\bt' # Use backslash \\ to escape the before character\n",
    "escape_tchar = 'doesn\\tt' # Use backslash \\ to bring the tab space the before next character\n",
    "new_line = 'First line.\\nSecond line.'  #\\n means newline  \n",
    "print(escape_char, escape_bchar, escape_tchar, new_line)\n",
    "\n",
    "  "
   ]
  },
  {
   "cell_type": "markdown",
   "metadata": {},
   "source": [
    "LISTS:\n",
    "\n"
   ]
  },
  {
   "cell_type": "code",
   "execution_count": 3,
   "metadata": {},
   "outputs": [
    {
     "name": "stdout",
     "output_type": "stream",
     "text": [
      "hello python\n"
     ]
    }
   ],
   "source": [
    "print(\"hello python\")\n",
    "#Hello"
   ]
  },
  {
   "cell_type": "code",
   "execution_count": null,
   "metadata": {},
   "outputs": [],
   "source": []
  }
 ],
 "metadata": {
  "kernelspec": {
   "display_name": "Python 3.10.7 64-bit",
   "language": "python",
   "name": "python3"
  },
  "language_info": {
   "codemirror_mode": {
    "name": "ipython",
    "version": 3
   },
   "file_extension": ".py",
   "mimetype": "text/x-python",
   "name": "python",
   "nbconvert_exporter": "python",
   "pygments_lexer": "ipython3",
   "version": "3.10.7"
  },
  "orig_nbformat": 4,
  "vscode": {
   "interpreter": {
    "hash": "99b635dfec5e29bb2762288910bc46f9f4f86456c4f38903c2a7c5deac4c995e"
   }
  }
 },
 "nbformat": 4,
 "nbformat_minor": 2
}
