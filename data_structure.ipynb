{
 "cells": [
  {
   "cell_type": "markdown",
   "metadata": {},
   "source": [
    "#LIST METHODS\n",
    "1. list.append(x) : Add an item to the end of the list. Equivalent to a[len(a):] = [x].\n",
    "2. list.extend(iterable): Extend the list by appending all the items from the iterable. Equivalent to a[len(a):] = iterable.\n",
    "3. list.insert(i, x): Insert an item at a given position. The first argument is the index of the element before which to insert.\n",
    "4. list.remove(x): Remove the first item from the list whose value is equal to x. It raises a ValueError if there is no such item.\n",
    "5. list.pop([i]): Remove the item at the given position in the list, and return it. If no index is specified, a.pop() removes and   \n",
    "                  returns the last item in the list.\n",
    "6. list.clear(): Remove all items from the list. Equivalent to del a[:].\n",
    "7. list.index(x[,start[, end]]): Return zero-based index in the list of the first item whose value is equal to x. Raises a     \n",
    "                                ValueError if there is no such item. The optional arguments start and end are interpreted as in the slice notation and are used to limit the search to a particular subsequence of the list. The returned index is computed relative to the beginning of the full sequence rather than the start argument.\n",
    "8. list.count(x): Return the number of times x appears in the list.\n",
    "10. list.sort(*, key=None, reverse=False): Sort the items of the list in place (the arguments can be used for sort customization, \n",
    "                                           see sorted() for their explanation).\n",
    "11. list.reverse(): Reverse the elements of the list in place.\n",
    "12. list.copy(): Return a shallow copy of the list. Equivalent to a[:]."
   ]
  },
  {
   "cell_type": "code",
   "execution_count": 40,
   "metadata": {},
   "outputs": [
    {
     "name": "stdout",
     "output_type": "stream",
     "text": [
      "5\n",
      "3\n",
      "['apple', 'apple', 'apple', 'banana', 'kiwi', 'orange', 'pear', 'pineapple']\n",
      "['pineapple', 'apple', 'apple', 'kiwi', 'banana', 'pear', 'apple', 'orange', 'dragon fruit']\n"
     ]
    }
   ],
   "source": [
    "fruits = ['orange', 'apple', 'pear', 'banana', 'kiwi', 'apple', 'banana', 'apple']\n",
    "fruits.append('pineapple') #Returns None\n",
    "#fruits.extend(range(2,10))\n",
    "fruits.insert(4, 'myapple')  #Returns None\n",
    "fruits.remove('myapple') #Returns None\n",
    "fruits.pop(6) #Returns The removed item\n",
    "print(fruits.index('apple', 2, 6)) #Returns The index or valu error\n",
    "print(fruits.count('apple')) # Return the count\n",
    "fruits.reverse() # Return None\n",
    "fruits_copy = fruits.copy() #Returns the copy of the list\n",
    "fruits_copy.insert(8, 'dragon fruit')\n",
    "\n",
    "fruits.sort()\n",
    "\n",
    "print(fruits)\n",
    "print(fruits_copy)\n"
   ]
  },
  {
   "cell_type": "markdown",
   "metadata": {},
   "source": [
    "LIST AS STACK: The list methods make it very easy to use a list as a stack, where the last element added is the first element retrieved (“last-in, first-out”). To add an item to the top of the stack, use append(). To retrieve an item from the top of the stack, use pop() without an explicit index\n",
    "\n",
    "LIST AS QUEUES: It is also possible to use a list as a queue, where the first element added is the first element retrieved (“first-in, first-out”); however, lists are not efficient for this purpose. While appends and pops from the end of list are fast, doing inserts or pops from the beginning of a list is slow (because all of the other elements have to be shifted by one).\n",
    "\n",
    "To implement a queue, use collections.deque which was designed to have fast appends and pops from both ends. For example:"
   ]
  },
  {
   "cell_type": "code",
   "execution_count": 41,
   "metadata": {},
   "outputs": [
    {
     "name": "stdout",
     "output_type": "stream",
     "text": [
      "deque(['Eric', 'John', 'Michael', 'Terry', 'Graham'])\n",
      "deque(['Michael', 'Terry', 'Graham'])\n"
     ]
    }
   ],
   "source": [
    "from collections import deque\n",
    "queue = deque([\"Eric\", \"John\", \"Michael\"])\n",
    "queue.append(\"Terry\") \n",
    "queue.append(\"Graham\") \n",
    "print(queue)\n",
    "queue.popleft() \n",
    "queue.popleft()\n",
    "print(queue)"
   ]
  },
  {
   "cell_type": "markdown",
   "metadata": {},
   "source": [
    "List Comprehensions:\n",
    "List comprehensions provide a concise way to create lists. Common applications are to make new lists where each element is the result of some operations applied to each member of another sequence or iterable, or to create a subsequence of those elements that satisfy a certain condition."
   ]
  },
  {
   "cell_type": "code",
   "execution_count": 56,
   "metadata": {},
   "outputs": [
    {
     "name": "stdout",
     "output_type": "stream",
     "text": [
      "[0, 1, 4, 9, 16, 25, 36, 49, 64, 81]\n",
      "9\n",
      "[0, 1, 4, 9, 16, 25, 36, 49, 64, 81]\n",
      "[0, 1, 4, 9, 16, 25, 36, 49, 64, 81]\n",
      "[(1, 3), (1, 4), (2, 3), (2, 1), (2, 4), (3, 1), (3, 4)]\n",
      "[(1, 3), (1, 4), (2, 3), (2, 1), (2, 4), (3, 1), (3, 4)]\n",
      "[0, 4, 8]\n",
      "[4, 2, 0, 2, 4]\n",
      "['banana', 'loganberry', 'passion fruit']\n",
      "[(0, 0), (1, 1), (2, 4), (3, 9), (4, 16), (5, 25)]\n",
      "[1, 2, 3, 4, 5, 6, 7, 8, 9]\n"
     ]
    }
   ],
   "source": [
    "squares = []\n",
    "for x in range(10):\n",
    "    squares.append(x**2)\n",
    "print(squares)\n",
    "print(x)\n",
    "\n",
    "#Note that this creates (or overwrites) a variable named x that still exists after the loop completes. \n",
    "# We can calculate the list of squares without any side effects using:\n",
    "\n",
    "squares1 = list(map(lambda y: y**2, range(10)))\n",
    "squares2 = [z**2 for z in range(10)]\n",
    "print(squares1)\n",
    "print(squares2)\n",
    "\n",
    "# A list comprehension consists of brackets containing an expression followed by a for clause, then zero or more for or if clauses. \n",
    "# The result will be a new list resulting from evaluating the expression in the context of the for and if clauses which follow it. \n",
    "# For example, this listcomp combines the elements of two lists if they are not equal:\n",
    "\n",
    "point  = [(x, y) for x in [1,2,3] for y in [3,1,4] if x != y]\n",
    "print(point)\n",
    "\n",
    "# Above is equivalent to following\n",
    "combs = []\n",
    "for x in [1,2,3]:\n",
    "    for y in [3,1,4]:\n",
    "        if x != y:\n",
    "            combs.append((x, y))\n",
    "print(combs)\n",
    "\n",
    "vec = [-4, -2, 0, 2, 4]\n",
    "mlist = [x*2 for x in vec if x>=0]\n",
    "print(mlist)\n",
    "\n",
    "alist = [abs(x) for x in vec] # apply a function to all the elements\n",
    "print(alist)\n",
    "\n",
    "freshfruit = ['  banana', '  loganberry ', 'passion fruit  ']\n",
    "slist = [weapon.strip() for weapon in freshfruit]\n",
    "print(slist)\n",
    "\n",
    "nslist = [(x, x**2) for x in range(6)] #create a list of 2-tuples like (number, square)\n",
    "print(nslist)\n",
    "\n",
    "vec = [[1,2,3], [4,5,6], [7,8,9]] #flatten a list using a listcomp with two 'for'\n",
    "flist = [num for elem in vec for num in elem]\n",
    "print(flist)"
   ]
  },
  {
   "cell_type": "code",
   "execution_count": 67,
   "metadata": {},
   "outputs": [
    {
     "name": "stdout",
     "output_type": "stream",
     "text": [
      "['3.1', '3.14', '3.142', '3.1416', '3.14159']\n",
      "[1, 2, 3, 4]\n",
      "[[1, 5, 9], [2, 6, 10], [3, 7, 11], [4, 8, 12]]\n",
      "[[1, 5, 9], [2, 6, 10], [3, 7, 11], [4, 8, 12]]\n",
      "[(1, 5, 9), (2, 6, 10), (3, 7, 11), (4, 8, 12)]\n"
     ]
    }
   ],
   "source": [
    "#Nested List Comprehensions\n",
    "from math import pi\n",
    "pilist = [str(round(pi, i)) for i in range(1, 6)]\n",
    "print(pilist)\n",
    "\n",
    "\n",
    "matrix = [\n",
    "    [1, 2, 3, 4],\n",
    "    [5, 6, 7, 8],\n",
    "    [9, 10, 11, 12],\n",
    "    ]\n",
    "print(matrix[0])\n",
    "\n",
    "mlist = [[row[i] for row in matrix] for i in range(4)]\n",
    "print(mlist)\n",
    "\n",
    "transposed = []\n",
    "for i in range(4):\n",
    "    transposed_row = []\n",
    "    for row in matrix:\n",
    "        transposed_row.append(row[i])\n",
    "    transposed.append(transposed_row)\n",
    "\n",
    "print(transposed)\n",
    "\n",
    "zlist = list(zip(*matrix))\n",
    "print(zlist)\n",
    "\n"
   ]
  },
  {
   "cell_type": "markdown",
   "metadata": {},
   "source": [
    "Tuples and Sequences:\n",
    "We saw that lists and strings have many common properties, such as indexing and slicing operations. They are two examples of sequence data types (see Sequence Types — list, tuple, range). Since Python is an evolving language, other sequence data types may be added. There is also another standard sequence data type: the tuple.\n",
    "\n",
    "A tuple consists of a number of values separated by commas, for instance:\n",
    "\n",
    "Though tuples may seem similar to lists, they are often used in different situations and for different purposes. Tuples are immutable, and usually contain a heterogeneous sequence of elements that are accessed via unpacking (see later in this section) or indexing (or even by attribute in the case of namedtuples). Lists are mutable, and their elements are usually homogeneous and are accessed by iterating over the list.\n",
    "\n",
    "It is not possible to assign to the individual items of a tuple, however it is possible to create tuples which contain mutable objects, such as lists."
   ]
  },
  {
   "cell_type": "code",
   "execution_count": 72,
   "metadata": {},
   "outputs": [
    {
     "name": "stdout",
     "output_type": "stream",
     "text": [
      "(12345, 54321, 'hello!')\n",
      "12345 54321 hello!\n",
      "((12345, 54321, 'hello!'), (1, 2, 3, 4, 5))\n",
      "([2, 2, 3], [3, 2, 1])\n",
      "0\n",
      "1\n"
     ]
    }
   ],
   "source": [
    "t = 12345, 54321, 'hello!' #initialization\n",
    "print(t)\n",
    "\n",
    "x,y,z = t #deinitializatio\n",
    "\n",
    "print(x,y,z)\n",
    "\n",
    "u = t, (1, 2, 3, 4, 5)\n",
    "print(u)\n",
    "\n",
    "#'tuple' object does not support item assignment\n",
    "# # Tuples are immutable: but they can contain mutable objects:\n",
    "\n",
    "v = ([1, 2, 3], [3, 2, 1])\n",
    "#v[0] = [4,5,6] #This will give the error\n",
    "v[0][0] = 2\n",
    "print(v)\n",
    "\n",
    "empty = () #Empty tupple\n",
    "singleton = 'hello',    # <-- note trailing comma\n",
    "print(len(empty))\n",
    "print(len(singleton))"
   ]
  },
  {
   "cell_type": "markdown",
   "metadata": {},
   "source": [
    "SETS:\n",
    "A set is an unordered collection with no duplicate elements. Basic uses include membership testing and eliminating duplicate entries. Set objects also support mathematical operations like union, intersection, difference, and symmetric difference.\n",
    "\n",
    "Curly braces or the set() function can be used to create sets. Note: to create an empty set you have to use set(), not {}; the latter creates an empty dictionary, a data structure that we discuss in the next section.\n",
    "\n",
    "Set data structure is referred as Unordered Collections of Unique Elements and that doesn't support operations like indexing or slicing e"
   ]
  },
  {
   "cell_type": "code",
   "execution_count": 91,
   "metadata": {},
   "outputs": [
    {
     "name": "stdout",
     "output_type": "stream",
     "text": [
      "{'banana', 'pear', 'orange', 'apple'}\n",
      "True\n",
      "{'c', 'a', 'd', 'b', 'r'} {'c', 'a', 'l', 'm', 'z'}\n",
      "{'r', 'd', 'b'}\n",
      "{'c', 'a', 'd', 'b', 'l', 'r', 'm', 'z'}\n",
      "{'c', 'a'}\n",
      "{'r', 'm', 'b', 'z', 'd', 'l'}\n",
      "{'r', 'd'}\n"
     ]
    }
   ],
   "source": [
    "basket = {'apple', 'orange', 'apple', 'pear', 'orange', 'banana'}\n",
    "print(basket) # show that duplicates have been removed\n",
    "value = 'orange' in basket # fast membership testing\n",
    "print(value)\n",
    "\n",
    "# print(basket[1])  #'set' object is not subscriptable\n",
    "\n",
    "#SET OPERATION\n",
    "\n",
    "a = set('abracadabra')\n",
    "b= set('alacazam')\n",
    "print(a, b)\n",
    "print(a-b) #Letters in a but not b\n",
    "print(a|b) #letters in a or b or both : union of two swts\n",
    "print(a&b) #letters in a and b : intersection of two swts\n",
    "print(a^b) #letters in a or b but not in both\n",
    "\n",
    "\n",
    "# set comprehensions\n",
    "c = {x for x in 'abracadabra' if x not in 'abc'}\n",
    "print(c)"
   ]
  },
  {
   "cell_type": "markdown",
   "metadata": {},
   "source": [
    "Dictionaries:\n",
    "\n",
    "Unlike sequences, which are indexed by a range of numbers, dictionaries are indexed by keys, which can be any immutable type; strings and numbers can always be keys. Tuples can be used as keys if they contain only strings, numbers, or tuples; if a tuple contains any mutable object either directly or indirectly, it cannot be used as a key. You can’t use lists as keys, since lists can be modified in place using index assignments, slice assignments, or methods like append() and extend().\n",
    "\n",
    "It is best to think of a dictionary as a set of key: value pairs, with the requirement that the keys are unique (within one dictionary). A pair of braces creates an empty dictionary: {}. Placing a comma-separated list of key:value pairs within the braces adds initial key:value pairs to the dictionary; this is also the way dictionaries are written on output.\n",
    "\n",
    "The main operations on a dictionary are storing a value with some key and extracting the value given the key. It is also possible to delete a key:value pair with del. If you store using a key that is already in use, the old value associated with that key is forgotten. It is an error to extract a value using a non-existent key.\n",
    "\n",
    "Performing list(d) on a dictionary returns a list of all the keys used in the dictionary, in insertion order (if you want it sorted, just use sorted(d) instead). To check whether a single key is in the dictionary, use the in keyword."
   ]
  },
  {
   "cell_type": "code",
   "execution_count": 98,
   "metadata": {},
   "outputs": [
    {
     "name": "stdout",
     "output_type": "stream",
     "text": [
      "{'jack': 4098, 'sape': 4139}\n",
      "4098\n",
      "{'jack': 4098, 'guido': 4127, 'irv': 4127}\n",
      "['jack', 'guido', 'irv']\n",
      "True\n",
      "{'a': 308025, 'b': 308025, 'c': 308025}\n",
      "{'sape': 4139, 'guido': 4127, 'jack': 4098} {'sape': 4139, 'guido': 4127, 'jack': 4098}\n"
     ]
    }
   ],
   "source": [
    "tel = {'jack': 4098, 'sape': 4139}\n",
    "print(tel)\n",
    "print(tel['jack'])\n",
    "tel['guido'] = 4127\n",
    "\n",
    "del tel['sape']\n",
    "tel['irv'] = 4127\n",
    "print(tel)\n",
    "print(list(tel))\n",
    "\n",
    "print('guido' in tel)\n",
    "\n",
    "# Dictionary comprehensions\n",
    "vsdict = {x: y**2 for x in ('a', 'b', 'c') for y in (123, 445, 555)}\n",
    "print(vsdict)\n",
    "\n",
    "dic = dict([('sape', 4139), ('guido', 4127), ('jack', 4098)])\n",
    "dic1 = dict(sape=4139, guido=4127, jack=4098)\n",
    "\n",
    "print(dic, dic1)"
   ]
  },
  {
   "cell_type": "code",
   "execution_count": 107,
   "metadata": {},
   "outputs": [
    {
     "name": "stdout",
     "output_type": "stream",
     "text": [
      "gallahad the pure\n",
      "robin the brave\n",
      "0 tic\n",
      "1 tac\n",
      "2 toe\n",
      "What is your name?  It is lancelot.\n",
      "What is your quest?  It is the holy grail.\n",
      "What is your favorite color?  It is blue.\n",
      "9\n",
      "7\n",
      "5\n",
      "3\n",
      "1\n",
      "apple\n",
      "apple\n",
      "banana\n",
      "orange\n",
      "orange\n",
      "pear\n",
      "apple\n",
      "banana\n",
      "orange\n",
      "pear\n",
      "[56.2, 51.7, 55.3, 52.5, 47.8]\n"
     ]
    }
   ],
   "source": [
    "#Looping Techniques\n",
    "knights = {'gallahad': 'the pure', 'robin': 'the brave'}\n",
    "for k, v in knights.items():\n",
    "    print(k, v)\n",
    "\n",
    "#When looping through a sequence, the position index and corresponding value can be retrieved at the same time \n",
    "# using the enumerate() function.\n",
    "for i, v in enumerate(['tic', 'tac', 'toe']):\n",
    "    print(i, v)\n",
    "\n",
    "#To loop over two or more sequences at the same time, the entries can be paired with the zip() function.\n",
    "questions = ['name', 'quest', 'favorite color']\n",
    "answers = ['lancelot', 'the holy grail', 'blue']\n",
    "for q, a in zip(questions, answers):\n",
    "    print('What is your {0}?  It is {1}.'.format(q, a))\n",
    "\n",
    "#To loop over a sequence in reverse, first specify the sequence in a forward direction and then call the reversed() function.\n",
    "for i in reversed(range(1, 10, 2)): #third argument in the range is the gap betwent two consequative items\n",
    "    print(i)\n",
    "\n",
    "#To loop over a sequence in sorted order, use the sorted() function which returns a new sorted list while leaving the source unaltered.\n",
    "basket = ['apple', 'orange', 'apple', 'pear', 'orange', 'banana']\n",
    "for i in sorted(basket): print(i)\n",
    "\n",
    "# Using set() on a sequence eliminates duplicate elements. The use of sorted() in combination with set() over a sequence is an\n",
    "#  idiomatic way to loop over unique elements of the sequence in sorted order.\n",
    "\n",
    "basket1 = ['apple', 'orange', 'apple', 'pear', 'orange', 'banana']\n",
    "for f in sorted(set(basket1)): print(f)\n",
    "\n",
    "#It is sometimes tempting to change a list while you are looping over it; however,\n",
    "#  it is often simpler and safer to create a new list instead.\n",
    "\n",
    "import math\n",
    "raw_data = [56.2, float('NaN'), 51.7, 55.3, 52.5, float('NaN'), 47.8]\n",
    "filtered_data = []\n",
    "for value in raw_data:\n",
    "    if not math.isnan(value):\n",
    "        filtered_data.append(value)\n",
    "\n",
    "print(filtered_data)"
   ]
  }
 ],
 "metadata": {
  "kernelspec": {
   "display_name": "Python 3.10.7 64-bit",
   "language": "python",
   "name": "python3"
  },
  "language_info": {
   "codemirror_mode": {
    "name": "ipython",
    "version": 3
   },
   "file_extension": ".py",
   "mimetype": "text/x-python",
   "name": "python",
   "nbconvert_exporter": "python",
   "pygments_lexer": "ipython3",
   "version": "3.10.7"
  },
  "orig_nbformat": 4,
  "vscode": {
   "interpreter": {
    "hash": "99b635dfec5e29bb2762288910bc46f9f4f86456c4f38903c2a7c5deac4c995e"
   }
  }
 },
 "nbformat": 4,
 "nbformat_minor": 2
}
