{
 "cells": [
  {
   "cell_type": "markdown",
   "metadata": {},
   "source": [
    "#LIST METHODS\n",
    "1. list.append(x) : Add an item to the end of the list. Equivalent to a[len(a):] = [x].\n",
    "2. list.extend(iterable): Extend the list by appending all the items from the iterable. Equivalent to a[len(a):] = iterable.\n",
    "3. list.insert(i, x): Insert an item at a given position. The first argument is the index of the element before which to insert.\n",
    "4. list.remove(x): Remove the first item from the list whose value is equal to x. It raises a ValueError if there is no such item.\n",
    "5. list.pop([i]): Remove the item at the given position in the list, and return it. If no index is specified, a.pop() removes and   \n",
    "                  returns the last item in the list.\n",
    "6. list.clear(): Remove all items from the list. Equivalent to del a[:].\n",
    "7. list.index(x[,start[, end]]): Return zero-based index in the list of the first item whose value is equal to x. Raises a     \n",
    "                                ValueError if there is no such item. The optional arguments start and end are interpreted as in the slice notation and are used to limit the search to a particular subsequence of the list. The returned index is computed relative to the beginning of the full sequence rather than the start argument.\n",
    "8. list.count(x): Return the number of times x appears in the list.\n",
    "10. list.sort(*, key=None, reverse=False): Sort the items of the list in place (the arguments can be used for sort customization, \n",
    "                                           see sorted() for their explanation).\n",
    "11. list.reverse(): Reverse the elements of the list in place.\n",
    "12. list.copy(): Return a shallow copy of the list. Equivalent to a[:]."
   ]
  },
  {
   "cell_type": "code",
   "execution_count": 40,
   "metadata": {},
   "outputs": [
    {
     "name": "stdout",
     "output_type": "stream",
     "text": [
      "5\n",
      "3\n",
      "['apple', 'apple', 'apple', 'banana', 'kiwi', 'orange', 'pear', 'pineapple']\n",
      "['pineapple', 'apple', 'apple', 'kiwi', 'banana', 'pear', 'apple', 'orange', 'dragon fruit']\n"
     ]
    }
   ],
   "source": [
    "fruits = ['orange', 'apple', 'pear', 'banana', 'kiwi', 'apple', 'banana', 'apple']\n",
    "fruits.append('pineapple') #Returns None\n",
    "#fruits.extend(range(2,10))\n",
    "fruits.insert(4, 'myapple')  #Returns None\n",
    "fruits.remove('myapple') #Returns None\n",
    "fruits.pop(6) #Returns The removed item\n",
    "print(fruits.index('apple', 2, 6)) #Returns The index or valu error\n",
    "print(fruits.count('apple')) # Return the count\n",
    "fruits.reverse() # Return None\n",
    "fruits_copy = fruits.copy() #Returns the copy of the list\n",
    "fruits_copy.insert(8, 'dragon fruit')\n",
    "\n",
    "fruits.sort()\n",
    "\n",
    "print(fruits)\n",
    "print(fruits_copy)\n"
   ]
  },
  {
   "cell_type": "markdown",
   "metadata": {},
   "source": [
    "LIST AS STACK: The list methods make it very easy to use a list as a stack, where the last element added is the first element retrieved (“last-in, first-out”). To add an item to the top of the stack, use append(). To retrieve an item from the top of the stack, use pop() without an explicit index\n",
    "\n",
    "LIST AS QUEUES: It is also possible to use a list as a queue, where the first element added is the first element retrieved (“first-in, first-out”); however, lists are not efficient for this purpose. While appends and pops from the end of list are fast, doing inserts or pops from the beginning of a list is slow (because all of the other elements have to be shifted by one).\n",
    "\n",
    "To implement a queue, use collections.deque which was designed to have fast appends and pops from both ends. For example:"
   ]
  },
  {
   "cell_type": "code",
   "execution_count": 41,
   "metadata": {},
   "outputs": [
    {
     "name": "stdout",
     "output_type": "stream",
     "text": [
      "deque(['Eric', 'John', 'Michael', 'Terry', 'Graham'])\n",
      "deque(['Michael', 'Terry', 'Graham'])\n"
     ]
    }
   ],
   "source": [
    "from collections import deque\n",
    "queue = deque([\"Eric\", \"John\", \"Michael\"])\n",
    "queue.append(\"Terry\") \n",
    "queue.append(\"Graham\") \n",
    "print(queue)\n",
    "queue.popleft() \n",
    "queue.popleft()\n",
    "print(queue)"
   ]
  },
  {
   "cell_type": "markdown",
   "metadata": {},
   "source": [
    "List Comprehensions:\n",
    "List comprehensions provide a concise way to create lists. Common applications are to make new lists where each element is the result of some operations applied to each member of another sequence or iterable, or to create a subsequence of those elements that satisfy a certain condition."
   ]
  },
  {
   "cell_type": "code",
   "execution_count": 56,
   "metadata": {},
   "outputs": [
    {
     "name": "stdout",
     "output_type": "stream",
     "text": [
      "[0, 1, 4, 9, 16, 25, 36, 49, 64, 81]\n",
      "9\n",
      "[0, 1, 4, 9, 16, 25, 36, 49, 64, 81]\n",
      "[0, 1, 4, 9, 16, 25, 36, 49, 64, 81]\n",
      "[(1, 3), (1, 4), (2, 3), (2, 1), (2, 4), (3, 1), (3, 4)]\n",
      "[(1, 3), (1, 4), (2, 3), (2, 1), (2, 4), (3, 1), (3, 4)]\n",
      "[0, 4, 8]\n",
      "[4, 2, 0, 2, 4]\n",
      "['banana', 'loganberry', 'passion fruit']\n",
      "[(0, 0), (1, 1), (2, 4), (3, 9), (4, 16), (5, 25)]\n",
      "[1, 2, 3, 4, 5, 6, 7, 8, 9]\n"
     ]
    }
   ],
   "source": [
    "squares = []\n",
    "for x in range(10):\n",
    "    squares.append(x**2)\n",
    "print(squares)\n",
    "print(x)\n",
    "\n",
    "#Note that this creates (or overwrites) a variable named x that still exists after the loop completes. \n",
    "# We can calculate the list of squares without any side effects using:\n",
    "\n",
    "squares1 = list(map(lambda y: y**2, range(10)))\n",
    "squares2 = [z**2 for z in range(10)]\n",
    "print(squares1)\n",
    "print(squares2)\n",
    "\n",
    "# A list comprehension consists of brackets containing an expression followed by a for clause, then zero or more for or if clauses. \n",
    "# The result will be a new list resulting from evaluating the expression in the context of the for and if clauses which follow it. \n",
    "# For example, this listcomp combines the elements of two lists if they are not equal:\n",
    "\n",
    "point  = [(x, y) for x in [1,2,3] for y in [3,1,4] if x != y]\n",
    "print(point)\n",
    "\n",
    "# Above is equivalent to following\n",
    "combs = []\n",
    "for x in [1,2,3]:\n",
    "    for y in [3,1,4]:\n",
    "        if x != y:\n",
    "            combs.append((x, y))\n",
    "print(combs)\n",
    "\n",
    "vec = [-4, -2, 0, 2, 4]\n",
    "mlist = [x*2 for x in vec if x>=0]\n",
    "print(mlist)\n",
    "\n",
    "alist = [abs(x) for x in vec] # apply a function to all the elements\n",
    "print(alist)\n",
    "\n",
    "freshfruit = ['  banana', '  loganberry ', 'passion fruit  ']\n",
    "slist = [weapon.strip() for weapon in freshfruit]\n",
    "print(slist)\n",
    "\n",
    "nslist = [(x, x**2) for x in range(6)] #create a list of 2-tuples like (number, square)\n",
    "print(nslist)\n",
    "\n",
    "vec = [[1,2,3], [4,5,6], [7,8,9]] #flatten a list using a listcomp with two 'for'\n",
    "flist = [num for elem in vec for num in elem]\n",
    "print(flist)"
   ]
  },
  {
   "cell_type": "code",
   "execution_count": 67,
   "metadata": {},
   "outputs": [
    {
     "name": "stdout",
     "output_type": "stream",
     "text": [
      "['3.1', '3.14', '3.142', '3.1416', '3.14159']\n",
      "[1, 2, 3, 4]\n",
      "[[1, 5, 9], [2, 6, 10], [3, 7, 11], [4, 8, 12]]\n",
      "[[1, 5, 9], [2, 6, 10], [3, 7, 11], [4, 8, 12]]\n",
      "[(1, 5, 9), (2, 6, 10), (3, 7, 11), (4, 8, 12)]\n"
     ]
    }
   ],
   "source": [
    "#Nested List Comprehensions\n",
    "from math import pi\n",
    "pilist = [str(round(pi, i)) for i in range(1, 6)]\n",
    "print(pilist)\n",
    "\n",
    "\n",
    "matrix = [\n",
    "    [1, 2, 3, 4],\n",
    "    [5, 6, 7, 8],\n",
    "    [9, 10, 11, 12],\n",
    "    ]\n",
    "print(matrix[0])\n",
    "\n",
    "mlist = [[row[i] for row in matrix] for i in range(4)]\n",
    "print(mlist)\n",
    "\n",
    "transposed = []\n",
    "for i in range(4):\n",
    "    transposed_row = []\n",
    "    for row in matrix:\n",
    "        transposed_row.append(row[i])\n",
    "    transposed.append(transposed_row)\n",
    "\n",
    "print(transposed)\n",
    "\n",
    "zlist = list(zip(*matrix))\n",
    "print(zlist)\n",
    "\n"
   ]
  }
 ],
 "metadata": {
  "kernelspec": {
   "display_name": "Python 3.10.7 64-bit",
   "language": "python",
   "name": "python3"
  },
  "language_info": {
   "codemirror_mode": {
    "name": "ipython",
    "version": 3
   },
   "file_extension": ".py",
   "mimetype": "text/x-python",
   "name": "python",
   "nbconvert_exporter": "python",
   "pygments_lexer": "ipython3",
   "version": "3.10.7"
  },
  "orig_nbformat": 4,
  "vscode": {
   "interpreter": {
    "hash": "99b635dfec5e29bb2762288910bc46f9f4f86456c4f38903c2a7c5deac4c995e"
   }
  }
 },
 "nbformat": 4,
 "nbformat_minor": 2
}
