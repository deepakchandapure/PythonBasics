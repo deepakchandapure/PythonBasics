{
 "cells": [
  {
   "cell_type": "code",
   "execution_count": 10,
   "metadata": {},
   "outputs": [
    {
     "name": "stdout",
     "output_type": "stream",
     "text": [
      "[0, 1, 1, 2, 3, 5, 8]\n",
      "0 1 1 2 3 5 8 13 \n",
      "['__builtins__', '__cached__', '__doc__', '__file__', '__loader__', '__name__', '__package__', '__spec__', 'fib', 'fib2']\n"
     ]
    }
   ],
   "source": [
    "import mathe as m\n",
    "from mathe import fib\n",
    "import sys\n",
    "print(m.fib2(10))\n",
    "m.fib(20)\n",
    "print(dir(m))"
   ]
  }
 ],
 "metadata": {
  "kernelspec": {
   "display_name": "Python 3.10.7 64-bit",
   "language": "python",
   "name": "python3"
  },
  "language_info": {
   "codemirror_mode": {
    "name": "ipython",
    "version": 3
   },
   "file_extension": ".py",
   "mimetype": "text/x-python",
   "name": "python",
   "nbconvert_exporter": "python",
   "pygments_lexer": "ipython3",
   "version": "3.10.7"
  },
  "orig_nbformat": 4,
  "vscode": {
   "interpreter": {
    "hash": "99b635dfec5e29bb2762288910bc46f9f4f86456c4f38903c2a7c5deac4c995e"
   }
  }
 },
 "nbformat": 4,
 "nbformat_minor": 2
}
