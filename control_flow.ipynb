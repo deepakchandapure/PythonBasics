{
 "cells": [
  {
   "cell_type": "code",
   "execution_count": 1,
   "metadata": {},
   "outputs": [
    {
     "name": "stdout",
     "output_type": "stream",
     "text": [
      "X is non positive number\n"
     ]
    }
   ],
   "source": [
    "# IF ELSE STATEMENT\n",
    "x = int(input(\"Please enter an integer: \"))\n",
    "if x < 0 or x ==0:\n",
    "    print(\"X is non positive number\")\n",
    "else:\n",
    "    print(\"X is positive\")"
   ]
  },
  {
   "cell_type": "code",
   "execution_count": 15,
   "metadata": {},
   "outputs": [
    {
     "name": "stdout",
     "output_type": "stream",
     "text": [
      "cat 3\n",
      "window 6\n",
      "defenestrate 12\n",
      "dog 3\n",
      "cat\n",
      "window\n",
      "defenestrate\n",
      "dog\n",
      "2\n",
      "3\n",
      "4\n"
     ]
    }
   ],
   "source": [
    "# FOR STATEMENT\n",
    "words = ['cat', 'window', 'defenestrate','dog']\n",
    "for word in words:\n",
    "    print(word, len(word))\n",
    "\n",
    "for index in range(len(words)):\n",
    "    print(words[index])\n",
    "\n",
    "for i in range(2,5):\n",
    "    print(i)\n"
   ]
  },
  {
   "cell_type": "markdown",
   "metadata": {},
   "source": [
    "RANGE FUNCTION\n",
    "In many ways the object returned by range() behaves as if it is a list, but in fact it isn’t. It is an object which returns the successive items of the desired sequence when you iterate over it, but it doesn’t really make the list, thus saving space.\n",
    "\n",
    "We say such an object is iterable, that is, suitable as a target for functions and constructs that expect something from which they can obtain successive items until the supply is exhausted. We have seen that the for statement is such a construct, while an example of a function that takes an iterable is sum():"
   ]
  },
  {
   "cell_type": "code",
   "execution_count": 25,
   "metadata": {},
   "outputs": [
    {
     "name": "stdout",
     "output_type": "stream",
     "text": [
      "range(0, 10)\n",
      "7\n"
     ]
    }
   ],
   "source": [
    "range(10)\n",
    "print(range(10))\n",
    "print(sum(range(3,5)))"
   ]
  },
  {
   "cell_type": "code",
   "execution_count": 44,
   "metadata": {},
   "outputs": [
    {
     "name": "stdout",
     "output_type": "stream",
     "text": [
      "Bad request\n",
      "Y=y\n",
      "I see red!\n"
     ]
    }
   ],
   "source": [
    "#MATCH STATEMENT\n",
    "\n",
    "def http_error(status):\n",
    "    match status:\n",
    "        case 400|401|401:\n",
    "            return \"Bad request\"\n",
    "        case 404:\n",
    "            return \"Not found\"\n",
    "        case 418:\n",
    "            return \"I'm a teapot\"\n",
    "        case _:\n",
    "            return \"Something's wrong with the internet\"\n",
    "\n",
    "print(http_error(401))\n",
    "\n"
   ]
  },
  {
   "cell_type": "code",
   "execution_count": 46,
   "metadata": {},
   "outputs": [
    {
     "name": "stdout",
     "output_type": "stream",
     "text": [
      "Y=y\n"
     ]
    }
   ],
   "source": [
    "# point is an (x, y) tuple\n",
    "# Python Tuple is a collection of objects separated by commas. In some ways, a tuple is similar to a list \n",
    "# in terms of indexing, nested objects, and repetition but a tuple is immutable, unlike lists which are mutable.\n",
    "\n",
    "def point_function(point):\n",
    "    match point:\n",
    "        case (0, 0):\n",
    "            print(\"Origin\")\n",
    "        case (0, y):\n",
    "            print(f\"Y={y}\")\n",
    "        case (x, 0):\n",
    "            print(f\"X={x}\")\n",
    "        case (x, y):\n",
    "            print(f\"X={x}, Y={y}\")\n",
    "        case _:\n",
    "            raise ValueError(\"Not a point\")\n",
    "\n",
    "point = (0, 'y')\n",
    "point_function(point)"
   ]
  },
  {
   "cell_type": "code",
   "execution_count": 45,
   "metadata": {},
   "outputs": [
    {
     "name": "stdout",
     "output_type": "stream",
     "text": [
      "Grass is green\n"
     ]
    }
   ],
   "source": [
    "from enum import Enum\n",
    "class Color(Enum):\n",
    "    RED = 'red'\n",
    "    GREEN = 'green'\n",
    "    BLUE = 'blue'\n",
    "\n",
    "color = Color(input(\"Enter your choice of 'red', 'blue' or 'green': \"))\n",
    "\n",
    "match color:\n",
    "    case Color.RED:\n",
    "        print(\"I see red!\")\n",
    "    case Color.GREEN:\n",
    "        print(\"Grass is green\")\n",
    "    case Color.BLUE:\n",
    "        print(\"I'm feeling the blues :(\")"
   ]
  }
 ],
 "metadata": {
  "kernelspec": {
   "display_name": "Python 3.10.7 64-bit",
   "language": "python",
   "name": "python3"
  },
  "language_info": {
   "codemirror_mode": {
    "name": "ipython",
    "version": 3
   },
   "file_extension": ".py",
   "mimetype": "text/x-python",
   "name": "python",
   "nbconvert_exporter": "python",
   "pygments_lexer": "ipython3",
   "version": "3.10.7"
  },
  "orig_nbformat": 4,
  "vscode": {
   "interpreter": {
    "hash": "99b635dfec5e29bb2762288910bc46f9f4f86456c4f38903c2a7c5deac4c995e"
   }
  }
 },
 "nbformat": 4,
 "nbformat_minor": 2
}
